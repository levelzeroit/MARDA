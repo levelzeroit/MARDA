{
 "cells": [
  {
   "cell_type": "markdown",
   "metadata": {},
   "source": [
    "# Inquinanti aria Puglia - Serie near real-time | Ultima settimana rilevazioni"
   ]
  },
  {
   "cell_type": "markdown",
   "metadata": {},
   "source": [
    "Caso di studio...\n",
    "Partendo da OPEN DATA disponibili su: http://dati.arpa.puglia.it/dataset/monitoraggio-aria\n",
    "(rilevati e validati) provenienti dalle centraline di monitoraggio Aria di ArpaPuglia a partire dal 11/11/2005\n",
    "si procede alla manipolazione dei dataset realizzati con CKAN\n",
    "Vengono utilizzati Anaconda, jupyter, Python + pandas, numpy, seaborn e matplotlib.\n"
   ]
  },
  {
   "cell_type": "code",
   "execution_count": 1,
   "metadata": {},
   "outputs": [],
   "source": [
    "# RILEVAZIONI NEAR REAL-TIME LINK DATI JSON\n",
    "\n",
    "url_centraline = 'http://dati.arpa.puglia.it/api/action/datastore_search?resource_id=cc6e384f-bc49-43be-817a-a4ead521dda5&limit=5000'\n",
    "#query link Arpa\n",
    "url_rilevazioni = 'http://dati.arpa.puglia.it/api/action/datastore_search?resource_id=d08afe64-0285-4334-bc9f-92f5d95e106e&limit=50000'\n",
    "#query link Arpa\n",
    "url_inquinanti = 'http://dati.arpa.puglia.it/api/action/datastore_search?resource_id=83edeb9a-6a37-4713-94f6-9d8e8000a2ac&limit=500'\n",
    "#query link Arpa\n",
    "#---------------------------------------------------------------------------------------------------------------------"
   ]
  },
  {
   "cell_type": "code",
   "execution_count": 2,
   "metadata": {},
   "outputs": [
    {
     "name": "stdout",
     "output_type": "stream",
     "text": [
      "Ultimo aggiornamento al file:  2018-06-04 20:32:28.632562\n"
     ]
    }
   ],
   "source": [
    "import datetime\n",
    "oggiDataOra = datetime.datetime.now() #data odierna\n",
    "print('Ultimo aggiornamento al file: ', oggiDataOra)"
   ]
  },
  {
   "cell_type": "code",
   "execution_count": null,
   "metadata": {},
   "outputs": [],
   "source": []
  },
  {
   "cell_type": "code",
   "execution_count": 3,
   "metadata": {},
   "outputs": [],
   "source": [
    "# importazione dei moduli necessari\n",
    "\n",
    "import urllib.request\n",
    "import json\n",
    "import numpy as np\n",
    "import pandas as pd\n",
    "import seaborn as sns\n",
    "import matplotlib as mlp\n",
    "import matplotlib.pyplot as plt\n",
    "%matplotlib inline\n",
    "\n",
    "from IPython.core.display import display, HTML #visualizza html in jupyter notebok"
   ]
  },
  {
   "cell_type": "code",
   "execution_count": null,
   "metadata": {},
   "outputs": [],
   "source": [
    "# RILEVAZIONI STORICHE - download del file rilevazioni.csv - questo file non è sempre online e contattabile attraverso Json, \n",
    "# quindi si sceglie di scaricarlo, il download avviene nella cartella in cuoi si lavora con il notebook Jupyter\n",
    "\n",
    "urllib.request.urlretrieve('http://dati.arpa.puglia.it/dataset/5b9debe2-47d0-4783-a073-92de3ca86aae/resource/0b00de5f-188e-4693-a6c8-3887b207409e/download/rilevazioni.csv','rilevazioni.csv')\n"
   ]
  },
  {
   "cell_type": "code",
   "execution_count": null,
   "metadata": {},
   "outputs": [],
   "source": [
    "# moduli per rendere interattivi alcuni elementi\n",
    "\n",
    "\n",
    "\n",
    "from __future__ import print_function\n",
    "from ipywidgets import interact, interactive, fixed, interact_manual\n",
    "import ipywidgets as widgets"
   ]
  },
  {
   "cell_type": "code",
   "execution_count": null,
   "metadata": {},
   "outputs": [],
   "source": [
    "with urllib.request.urlopen(url_rilevazioni) as url:\n",
    "    data_rilevazioni = url.read()\n",
    "    \n",
    "with urllib.request.urlopen(url_centraline) as url:\n",
    "    data_centraline = url.read()\n",
    "    \n",
    "with urllib.request.urlopen(url_inquinanti) as url:\n",
    "    data_inquinanti = url.read()\n"
   ]
  },
  {
   "cell_type": "code",
   "execution_count": null,
   "metadata": {},
   "outputs": [],
   "source": []
  },
  {
   "cell_type": "code",
   "execution_count": null,
   "metadata": {},
   "outputs": [],
   "source": [
    "response1 = json.loads(data_rilevazioni)\n",
    "response2 = json.loads(data_centraline)\n",
    "response3 = json.loads(data_inquinanti)\n"
   ]
  },
  {
   "cell_type": "code",
   "execution_count": null,
   "metadata": {},
   "outputs": [],
   "source": []
  },
  {
   "cell_type": "code",
   "execution_count": null,
   "metadata": {},
   "outputs": [],
   "source": [
    "# questi sono i 3 dataset\n",
    "\n",
    "rileva = pd.DataFrame(response1['result']['records'])\n",
    "centra = pd.DataFrame(response2['result']['records'])\n",
    "inquina = pd.DataFrame(response3['result']['records'])\n"
   ]
  },
  {
   "cell_type": "code",
   "execution_count": null,
   "metadata": {},
   "outputs": [],
   "source": [
    "rileva['data_rilevazione'].dtypes #verifichiamo il tipo di dato 'data_rilevazione' che non essendo in formato data va convertito"
   ]
  },
  {
   "cell_type": "code",
   "execution_count": null,
   "metadata": {},
   "outputs": [],
   "source": [
    "#assegno = la conversione di ['data_rilevazione'] in datatime\n",
    "rileva['data_rilevazione'] = pd.to_datetime(rileva['data_rilevazione']) \n",
    "\n",
    "\n",
    "rileva['data_rilevazione'].head(5) #visualizzo il dato "
   ]
  },
  {
   "cell_type": "code",
   "execution_count": null,
   "metadata": {},
   "outputs": [],
   "source": [
    "#verifico il tipo di formato in cui è il parametro ['valore'], va convertito in numero\n",
    "rileva['valore'].dtypes "
   ]
  },
  {
   "cell_type": "code",
   "execution_count": null,
   "metadata": {},
   "outputs": [],
   "source": [
    "#assegno = la conversione di ['valore'] in float\n",
    "rileva['valore'] = pd.to_numeric(rileva['valore']) \n",
    "\n",
    "rileva['valore'].dtypes"
   ]
  },
  {
   "cell_type": "markdown",
   "metadata": {},
   "source": [
    "A questo punto è necessario puntualizzare che i dati contenuti nei dataset, su cui lavoriamo, sono rilevati e relativi a tutta la Regione Puglia. Nelle operazioni successive andiamo a subsettare il dataset 'rileva', lasciandolo integro, lavorando su dei sottoinsiemi"
   ]
  },
  {
   "cell_type": "code",
   "execution_count": null,
   "metadata": {},
   "outputs": [],
   "source": [
    "#ordino per data_rilevazione\n",
    "rileva_dataordered = rileva.sort_values(by='data_rilevazione', ascending=False) "
   ]
  },
  {
   "cell_type": "markdown",
   "metadata": {},
   "source": [
    "Dopo aver ordinato in ordine decrescente il dataset, andiamo a filtrare tutte le righe contenenti solo PM10, in questa fase lavoreremo sul nuovo subset, senza modificare il dataframe 'rileva'"
   ]
  },
  {
   "cell_type": "code",
   "execution_count": null,
   "metadata": {},
   "outputs": [],
   "source": [
    "#filtro solo i PM10 assegnandoli al dataframe PM10\n",
    "PM10 = rileva_dataordered[rileva_dataordered.sigla_inquinante == 'PM10'] \n",
    "\n",
    "PM10.head(5)"
   ]
  },
  {
   "cell_type": "code",
   "execution_count": null,
   "metadata": {},
   "outputs": [],
   "source": []
  },
  {
   "cell_type": "code",
   "execution_count": null,
   "metadata": {},
   "outputs": [],
   "source": [
    "# vericandone il tipo, python ci dice che si tratta appunto di un dataset di Pandas\n",
    "type(PM10)\n"
   ]
  },
  {
   "cell_type": "code",
   "execution_count": null,
   "metadata": {},
   "outputs": [],
   "source": []
  },
  {
   "cell_type": "code",
   "execution_count": null,
   "metadata": {},
   "outputs": [],
   "source": [
    "# circoscrivo ulteriormente l'area di interesse, attraverso un ulteriore subset che va a focalizzarsi \n",
    "# su una precisa area di rilevazione dati \n",
    "\n",
    "barletta1 = (PM10[PM10.statcd == 57]) \n",
    "barletta2 = (PM10[PM10.statcd == 58])\n",
    "andria = (PM10[PM10.statcd == 44]) \n",
    "molfetta = (PM10[PM10.statcd == 4]) "
   ]
  },
  {
   "cell_type": "code",
   "execution_count": null,
   "metadata": {},
   "outputs": [],
   "source": []
  },
  {
   "cell_type": "code",
   "execution_count": null,
   "metadata": {},
   "outputs": [],
   "source": []
  },
  {
   "cell_type": "code",
   "execution_count": null,
   "metadata": {},
   "outputs": [],
   "source": [
    "width = 18\n",
    "height = 10\n",
    "plt.figure(figsize=(width, height))\n",
    "plt.plot(barletta1.data_rilevazione, barletta1.valore, 'go-', label='Barletta, Via Casardi')\n",
    "plt.plot(barletta2.data_rilevazione, barletta2.valore, 'go-', label='Barletta, MM Ipercoop 1', color='red')\n",
    "plt.plot(andria.data_rilevazione, andria.valore, 'go-', label='Andria, Via Vaccina', color='orange')\n",
    "plt.plot(molfetta.data_rilevazione, molfetta.valore, 'go-', label='Molfetta, Piazza Verdi', color='black')\n",
    "\n",
    "plt.xlabel('data'), plt.ylabel('PM10')\n",
    "plt.legend()\n",
    "plt.title('Rilevazioni PM10')"
   ]
  },
  {
   "cell_type": "code",
   "execution_count": null,
   "metadata": {},
   "outputs": [],
   "source": [
    "from bokeh.plotting import figure, output_file, show\n",
    "\n",
    "# prepare some data\n",
    "x = barletta1.data_rilevazione\n",
    "y = barletta1.valore\n",
    "\n",
    "# output to static HTML file\n",
    "output_file(\"lines.html\")\n",
    "\n",
    "# create a new plot with a title and axis labels\n",
    "p = figure(title=\"PM10\", x_axis_label='x', y_axis_label='y',plot_width=800, plot_height=300, x_axis_type='datetime' )\n",
    "\n",
    "\n",
    "# add a line renderer with legend and line thickness\n",
    "p.line(x, y, legend=\"Barletta.\", line_width=2)\n",
    "p.line(barletta2.data_rilevazione, barletta2.valore, legend=\"Barletta.\", line_width=2, line_color=\"olivedrab\")\n",
    "\n",
    "# show the results\n",
    "show(p)\n",
    "\n",
    "display(HTML(filename='lines.html'))"
   ]
  },
  {
   "cell_type": "code",
   "execution_count": null,
   "metadata": {},
   "outputs": [],
   "source": []
  },
  {
   "cell_type": "code",
   "execution_count": null,
   "metadata": {},
   "outputs": [],
   "source": []
  },
  {
   "cell_type": "code",
   "execution_count": null,
   "metadata": {},
   "outputs": [],
   "source": [
    "poisson_lambda = (barletta1['valore'].mean() + barletta2['valore'].mean())/2\n",
    "print(poisson_lambda)"
   ]
  },
  {
   "cell_type": "code",
   "execution_count": null,
   "metadata": {},
   "outputs": [],
   "source": [
    "s = np.random.poisson(poisson_lambda, size=1000000)"
   ]
  },
  {
   "cell_type": "code",
   "execution_count": null,
   "metadata": {},
   "outputs": [],
   "source": [
    "d = plt.hist(s, 15, normed=True) #stampa del grafico della deviazione di Poisson dove Lambda è il valore medio della serie"
   ]
  },
  {
   "cell_type": "code",
   "execution_count": null,
   "metadata": {},
   "outputs": [],
   "source": [
    "sns.kdeplot(barletta1['valore'])\n",
    "sns.kdeplot(barletta2['valore'])"
   ]
  },
  {
   "cell_type": "markdown",
   "metadata": {},
   "source": [
    "# Inquinanti aria Puglia - Serie storiche dal 2007 al 2018"
   ]
  },
  {
   "cell_type": "markdown",
   "metadata": {},
   "source": [
    "A questo punto per approfondire l'argomento, andiamo ad operare sul dataset contenente le \"serie storiche\"."
   ]
  },
  {
   "cell_type": "code",
   "execution_count": null,
   "metadata": {},
   "outputs": [],
   "source": [
    "#Data la notevole dimensione delle serie storiche, è necessario scaricare il file.csv direttamente da Arpa.Puglia\n",
    "#Dataset di riferimento: http://dati.arpa.puglia.it/dataset/monitoraggio-aria/resource/0b00de5f-188e-4693-a6c8-3887b207409e\n",
    "\n",
    "storiche = pd.read_csv(\"rilevazioni.csv\")\n",
    "storiche.head()"
   ]
  },
  {
   "cell_type": "code",
   "execution_count": null,
   "metadata": {},
   "outputs": [],
   "source": [
    "storiche.dtypes #verifica del tipo di variabili presenti nel dataset ]>storiche<["
   ]
  },
  {
   "cell_type": "code",
   "execution_count": null,
   "metadata": {},
   "outputs": [],
   "source": [
    "#conversione dei formati\n",
    "storiche['DataRilevazione'] = pd.to_datetime(storiche['DataRilevazione']) #assegno = la conversione di ['DataRilevazione'] in datatime\n",
    "storiche['DataRilevazione'].dtypes #verifico il tipo di dato"
   ]
  },
  {
   "cell_type": "code",
   "execution_count": null,
   "metadata": {
    "scrolled": true
   },
   "outputs": [],
   "source": [
    "storiche['DataRilevazione'].head(5) #visualizzo il dato \n",
    "storiche['Valore'] = pd.to_numeric(storiche['Valore'], errors='coerce') #assegno = la conversione di ['Valore'] in float"
   ]
  },
  {
   "cell_type": "code",
   "execution_count": null,
   "metadata": {},
   "outputs": [],
   "source": [
    "storiche.dtypes"
   ]
  },
  {
   "cell_type": "code",
   "execution_count": null,
   "metadata": {},
   "outputs": [],
   "source": [
    "inquina.sort_values(by='nome', ascending=False) #ordino per data_rilevazione #visualizziamo le corrispondenze ID nella tabella con gli inquinanti"
   ]
  },
  {
   "cell_type": "code",
   "execution_count": null,
   "metadata": {},
   "outputs": [],
   "source": [
    "storiche = storiche[(storiche['DataRilevazione'] >= '2007-01-01' ) & (storiche['DataRilevazione'] <= '2018-05-23') ]\n",
    "\n",
    "storiche_dataord = storiche.sort_values(by='DataRilevazione', ascending=False) #ordino per data_rilevazione\n",
    "\n",
    "storiche_dataord()"
   ]
  },
  {
   "cell_type": "code",
   "execution_count": null,
   "metadata": {},
   "outputs": [],
   "source": [
    "#Attenzione ID inquinante delle serie storiche è diverso dal ID inqquinante delle serie near-real time\n",
    "\n",
    "#dataset di riferimento: http://dati.arpa.puglia.it/dataset/monitoraggio-aria/resource/daf832c4-4efc-4c84-ac77-dd6665807b84\n",
    "\n",
    "PM10s = storiche_dataord[storiche_dataord.IdInquinanteFk == 3] #filtro IdInquinanteFk del dataframe inquina (serie storiche)\n",
    "\n",
    "\n",
    " \n",
    "PM10s.head()\n",
    "\n",
    "#questo dataframe filtrato è relativo a tutte le stazioni di monitoraggio Puglia"
   ]
  },
  {
   "cell_type": "code",
   "execution_count": null,
   "metadata": {},
   "outputs": [],
   "source": [
    "sns.kdeplot(PM10s['Valore']) \n",
    "#riporto sul grafico i valori presenti nella colonna filtrata PM10s['Valore']. \n",
    "#Il grafico evidenzia subito la presenza di anomalie nella rilevazione dei dati \n",
    "# o quanto meno, la presenza di rilevazioni di PM10, che arrivano a toccare punte di 500 µg/m³ in alcune zone"
   ]
  },
  {
   "cell_type": "code",
   "execution_count": null,
   "metadata": {},
   "outputs": [],
   "source": [
    "#ATTENZIONE - gli Id centraline delle rilevazioni storiche sono diversi dalle rilevazioni near-real time\n",
    "#dataset di riferimento: http://dati.arpa.puglia.it/dataset/monitoraggio-aria/resource/daf832c4-4efc-4c84-ac77-dd6665807b84\n",
    "\n",
    "barletta1s = (PM10s[PM10s.IdCentralinaFk == 71]) \n",
    "barletta2s = (PM10s[PM10s.IdCentralinaFk == 109])\n",
    "andrias = (PM10s[PM10s.IdCentralinaFk == 63]) \n",
    "molfettas = (PM10s[PM10s.IdCentralinaFk == 14]) "
   ]
  },
  {
   "cell_type": "code",
   "execution_count": null,
   "metadata": {},
   "outputs": [],
   "source": [
    "barletta1s.head()"
   ]
  },
  {
   "cell_type": "code",
   "execution_count": null,
   "metadata": {},
   "outputs": [],
   "source": [
    "width = 18\n",
    "height = 10\n",
    "plt.figure(figsize=(width, height))\n",
    "plt.plot(barletta1s.DataRilevazione, barletta1s.Valore, 'go-', label='Barletta, Via Casardi')\n",
    "plt.plot(barletta2s.DataRilevazione, barletta2s.Valore, 'go-', label='Barletta, MM Ipercoop 1', color='red')\n",
    "plt.plot(andrias.DataRilevazione, andrias.Valore, 'go-', label='Andria, Via Vaccina', color='orange')\n",
    "plt.plot(molfettas.DataRilevazione, molfettas.Valore, 'go-', label='Molfetta, Piazza Verdi', color='black')\n",
    "\n",
    "plt.xlabel('data'), plt.ylabel('PM10')\n",
    "plt.legend()\n",
    "plt.title('Rilevazioni PM10')"
   ]
  },
  {
   "cell_type": "code",
   "execution_count": null,
   "metadata": {},
   "outputs": [],
   "source": [
    "sns.kdeplot(barletta1s['Valore'], shade=True, vertical=False, kernel='gau', bw='scott', gridsize=200, cut=3, clip=None, legend=True, cumulative=False, shade_lowest=True, ax=None)\n",
    "sns.kdeplot(barletta2s['Valore'],shade=True, vertical=False, kernel='gau', bw='scott', gridsize=200, cut=3, clip=None, legend=True, cumulative=False, shade_lowest=True, ax=None)\n",
    "sns.kdeplot(andrias['Valore'],shade=True, vertical=False, kernel='gau', bw='scott', gridsize=200, cut=3, clip=None, legend=True, cumulative=False, shade_lowest=True, ax=None) \n",
    "sns.kdeplot(molfettas['Valore'], shade=True, vertical=False, kernel='gau', bw='scott', gridsize=200, cut=3, clip=None, legend=True, cumulative=False, shade_lowest=True, ax=None) "
   ]
  },
  {
   "cell_type": "code",
   "execution_count": null,
   "metadata": {},
   "outputs": [],
   "source": [
    "barletta1s = barletta1s.fillna(0)\n",
    "barletta2s = barletta2s.fillna(0)"
   ]
  },
  {
   "cell_type": "code",
   "execution_count": null,
   "metadata": {},
   "outputs": [],
   "source": [
    "barletta1s_norm = barletta1s.drop('DataRilevazione', 1)\n",
    "\n",
    "barletta1s_norm = barletta1s_norm.drop('DataModifica', 1)\n",
    "barletta1s_norm.head()"
   ]
  },
  {
   "cell_type": "code",
   "execution_count": null,
   "metadata": {},
   "outputs": [],
   "source": [
    "# normalizzazione"
   ]
  },
  {
   "cell_type": "code",
   "execution_count": null,
   "metadata": {},
   "outputs": [],
   "source": [
    "barletta1s_normalizzato = (barletta1s_norm - barletta1s_norm.min()) / (barletta1s_norm.max() - barletta1s_norm.min())\n",
    "barletta1s_normalizzato.head()"
   ]
  },
  {
   "cell_type": "code",
   "execution_count": null,
   "metadata": {},
   "outputs": [],
   "source": [
    "sns.kdeplot(barletta1s_normalizzato['Valore'], shade=True)"
   ]
  },
  {
   "cell_type": "code",
   "execution_count": null,
   "metadata": {
    "collapsed": true
   },
   "outputs": [],
   "source": []
  },
  {
   "cell_type": "code",
   "execution_count": null,
   "metadata": {
    "collapsed": true
   },
   "outputs": [],
   "source": []
  },
  {
   "cell_type": "code",
   "execution_count": null,
   "metadata": {
    "collapsed": true
   },
   "outputs": [],
   "source": []
  },
  {
   "cell_type": "code",
   "execution_count": null,
   "metadata": {
    "collapsed": true
   },
   "outputs": [],
   "source": []
  },
  {
   "cell_type": "code",
   "execution_count": null,
   "metadata": {
    "collapsed": true
   },
   "outputs": [],
   "source": []
  },
  {
   "cell_type": "code",
   "execution_count": null,
   "metadata": {
    "collapsed": true
   },
   "outputs": [],
   "source": []
  },
  {
   "cell_type": "code",
   "execution_count": null,
   "metadata": {
    "collapsed": true
   },
   "outputs": [],
   "source": []
  },
  {
   "cell_type": "code",
   "execution_count": null,
   "metadata": {
    "collapsed": true
   },
   "outputs": [],
   "source": []
  },
  {
   "cell_type": "code",
   "execution_count": null,
   "metadata": {
    "collapsed": true
   },
   "outputs": [],
   "source": []
  },
  {
   "cell_type": "code",
   "execution_count": null,
   "metadata": {
    "collapsed": true
   },
   "outputs": [],
   "source": []
  },
  {
   "cell_type": "code",
   "execution_count": null,
   "metadata": {
    "collapsed": true
   },
   "outputs": [],
   "source": []
  },
  {
   "cell_type": "code",
   "execution_count": null,
   "metadata": {
    "collapsed": true
   },
   "outputs": [],
   "source": []
  },
  {
   "cell_type": "code",
   "execution_count": null,
   "metadata": {
    "collapsed": true
   },
   "outputs": [],
   "source": []
  },
  {
   "cell_type": "code",
   "execution_count": null,
   "metadata": {
    "collapsed": true
   },
   "outputs": [],
   "source": []
  },
  {
   "cell_type": "code",
   "execution_count": null,
   "metadata": {
    "collapsed": true
   },
   "outputs": [],
   "source": []
  }
 ],
 "metadata": {
  "kernelspec": {
   "display_name": "Python 3",
   "language": "python",
   "name": "python3"
  },
  "language_info": {
   "codemirror_mode": {
    "name": "ipython",
    "version": 3
   },
   "file_extension": ".py",
   "mimetype": "text/x-python",
   "name": "python",
   "nbconvert_exporter": "python",
   "pygments_lexer": "ipython3",
   "version": "3.6.5"
  }
 },
 "nbformat": 4,
 "nbformat_minor": 2
}
